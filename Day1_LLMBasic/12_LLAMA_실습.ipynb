{
  "nbformat": 4,
  "nbformat_minor": 0,
  "metadata": {
    "colab": {
      "private_outputs": true,
      "provenance": []
    },
    "kernelspec": {
      "name": "python3",
      "display_name": "Python 3"
    },
    "language_info": {
      "name": "python"
    }
  },
  "cells": [
    {
      "cell_type": "markdown",
      "source": [
        "# LLaMA 3.2 3B 모델 한국어 추론"
      ],
      "metadata": {
        "id": "vXnke_v_Hfid"
      }
    },
    {
      "cell_type": "code",
      "execution_count": null,
      "metadata": {
        "id": "StVmLYA5G6_G"
      },
      "outputs": [],
      "source": [
        "# 환경 구성\n",
        "import torch\n",
        "from transformers import AutoTokenizer, AutoModelForCausalLM"
      ]
    },
    {
      "cell_type": "code",
      "source": [
        "# 모델 준비\n",
        "model_id = 'Bllossom/llama-3.2-Korean-Bllossom-3B'\n",
        "tokenizer = AutoTokenizer.from_pretrained(model_id)\n",
        "model = AutoModelForCausalLM.from_pretrained(\n",
        "    model_id,\n",
        "    torch_dtype=torch.bfloat16,\n",
        "    device_map=\"auto\",\n",
        ")"
      ],
      "metadata": {
        "id": "7ek6lvmeH4GX"
      },
      "execution_count": null,
      "outputs": []
    },
    {
      "cell_type": "code",
      "source": [
        "# QnA 질문 준비\n",
        "instruction = \"철수가 20개의 연필을 가지고 있었는데 영희가 절반을 가져가고 민수가 남은 5개를 가져갔으면 철수에게 남은 연필의 갯수는 몇개인가요?\"\n",
        "\n",
        "messages = [\n",
        "    {\"role\": \"user\", \"content\": f\"{instruction}\"}\n",
        "    ]"
      ],
      "metadata": {
        "id": "7rkGXJeOH5Gz"
      },
      "execution_count": null,
      "outputs": []
    },
    {
      "cell_type": "code",
      "source": [
        "# 채팅 형식 입력 준비\n",
        "input_ids = tokenizer.apply_chat_template(\n",
        "    messages,\n",
        "    add_generation_prompt=True,\n",
        "    return_tensors=\"pt\"\n",
        ").to(model.device)"
      ],
      "metadata": {
        "id": "12sqj-gJH6U7"
      },
      "execution_count": null,
      "outputs": []
    },
    {
      "cell_type": "code",
      "source": [
        "terminators = [\n",
        "    tokenizer.convert_tokens_to_ids(\"<|end_of_text|>\"),\n",
        "    tokenizer.convert_tokens_to_ids(\"<|eot_id|>\")\n",
        "]"
      ],
      "metadata": {
        "id": "r3YVQB2QIF13"
      },
      "execution_count": null,
      "outputs": []
    },
    {
      "cell_type": "code",
      "source": [
        "# 추론\n",
        "outputs = model.generate(\n",
        "    input_ids,\n",
        "    max_new_tokens=1024,\n",
        "    eos_token_id=terminators,\n",
        "    do_sample=True,\n",
        "    temperature=0.6,\n",
        "    top_p=0.9\n",
        ")"
      ],
      "metadata": {
        "id": "nQW7eRg6ILJc"
      },
      "execution_count": null,
      "outputs": []
    },
    {
      "cell_type": "code",
      "source": [
        "# 결과 출력\n",
        "print(tokenizer.decode(outputs[0][input_ids.shape[-1]:], skip_special_tokens=True))"
      ],
      "metadata": {
        "id": "f9xvodX2INDz"
      },
      "execution_count": null,
      "outputs": []
    },
    {
      "cell_type": "code",
      "source": [
        "# 추론 함수 제작\n",
        "def inference_llama(input:str):\n",
        "    messages = [\n",
        "        {\"role\": \"user\", \"content\": f\"{instruction}\"}\n",
        "        ]\n",
        "    input_ids = tokenizer.apply_chat_template(\n",
        "        messages,\n",
        "        add_generation_prompt=True,\n",
        "        return_tensors=\"pt\"\n",
        "    ).to(model.device)\n",
        "    terminators = [\n",
        "        tokenizer.convert_tokens_to_ids(\"<|end_of_text|>\"),\n",
        "        tokenizer.convert_tokens_to_ids(\"<|eot_id|>\")\n",
        "    ]\n",
        "    outputs = model.generate(\n",
        "        input_ids,\n",
        "        max_new_tokens=1024,\n",
        "        eos_token_id=terminators,\n",
        "        do_sample=True,\n",
        "        temperature=0.6,\n",
        "        top_p=0.9\n",
        "    )\n",
        "    return tokenizer.decode(outputs[0][input_ids.shape[-1]:], skip_special_tokens=True)"
      ],
      "metadata": {
        "id": "gmrwB4ClIOCB"
      },
      "execution_count": null,
      "outputs": []
    },
    {
      "cell_type": "code",
      "source": [
        "print(\"ChatGPT에 대해 설명해봐\")"
      ],
      "metadata": {
        "id": "wJCASdYUI5JL"
      },
      "execution_count": null,
      "outputs": []
    },
    {
      "cell_type": "code",
      "source": [],
      "metadata": {
        "id": "t_LqJbiSI9rl"
      },
      "execution_count": null,
      "outputs": []
    }
  ]
}